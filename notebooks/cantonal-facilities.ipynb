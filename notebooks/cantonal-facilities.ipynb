{
 "cells": [
  {
   "cell_type": "markdown",
   "id": "38165bb4",
   "metadata": {},
   "source": [
    "# Data Processing\n",
    "\n",
    "## Imports"
   ]
  },
  {
   "cell_type": "code",
   "execution_count": null,
   "id": "7d3cf7a2",
   "metadata": {},
   "outputs": [],
   "source": [
    "import geopandas as gpd\n",
    "import osmnx as ox\n",
    "import pandas as pd"
   ]
  },
  {
   "cell_type": "markdown",
   "id": "362ba54b",
   "metadata": {},
   "source": [
    "## Parameters"
   ]
  },
  {
   "cell_type": "code",
   "execution_count": null,
   "id": "4bd15f69",
   "metadata": {
    "tags": [
     "parameters"
    ]
   },
   "outputs": [],
   "source": [
    "cantonal_facilities_filepath = \"data/raw/cantonal-facilities.csv\"\n",
    "gps_coords_col = \"GPS Coordinates (Latitude, Longitude)\"\n",
    "address_col = \"Postal Address\"\n",
    "epsg = 2056\n",
    "dst_filepath = \"data/procesed/cantonal-facilities.gpkg\""
   ]
  },
  {
   "cell_type": "markdown",
   "id": "4dac3e87",
   "metadata": {},
   "source": [
    "## Load Data and get numeric lat/lon from string coordinates"
   ]
  },
  {
   "cell_type": "code",
   "execution_count": null,
   "id": "5a347141",
   "metadata": {},
   "outputs": [],
   "source": [
    "df = pd.read_csv(cantonal_facilities_filepath)\n",
    "df[[\"lat\", \"lon\"]] = (\n",
    "    df[gps_coords_col]\n",
    "    .str.split(\", \")\n",
    "    .apply(pd.Series)\n",
    "    .rename(columns={0: \"lat\", 1: \"lon\"})\n",
    ")\n",
    "df = df.drop(columns=[gps_coords_col])"
   ]
  },
  {
   "cell_type": "markdown",
   "id": "047abd30",
   "metadata": {},
   "source": [
    "## Drop rows missing both coordinates and address_col"
   ]
  },
  {
   "cell_type": "code",
   "execution_count": null,
   "id": "eec6a552",
   "metadata": {},
   "outputs": [],
   "source": [
    "df = df[~(df[address_col].isna() & df[[\"lat\", \"lon\"]].isna().any(axis=1))]"
   ]
  },
  {
   "cell_type": "markdown",
   "id": "83b0a4fd",
   "metadata": {},
   "source": [
    "## Infer missing coordinates from address"
   ]
  },
  {
   "cell_type": "code",
   "execution_count": null,
   "id": "06e3d90c",
   "metadata": {},
   "outputs": [],
   "source": [
    "nan_coords_cond = df[[\"lat\", \"lon\"]].isna().any(axis=1)\n",
    "df.loc[nan_coords_cond, [\"lat\", \"lon\"]] = (\n",
    "    df.loc[nan_coords_cond, address_col]\n",
    "    .apply(lambda x: ox.geocode(x))\n",
    "    .apply(pd.Series)\n",
    "    .rename(columns={0: \"lat\", 1: \"lon\"})\n",
    ")"
   ]
  },
  {
   "cell_type": "code",
   "execution_count": null,
   "id": "da201d73",
   "metadata": {},
   "outputs": [],
   "source": [
    "# show that we have no more missing coordinates\n",
    "df[[\"lat\", \"lon\"]].isna().any(axis=1).sum()"
   ]
  },
  {
   "cell_type": "markdown",
   "id": "4e8d6dcc",
   "metadata": {},
   "source": [
    "## Create geo data frame and dump to file"
   ]
  },
  {
   "cell_type": "code",
   "execution_count": null,
   "id": "13856838",
   "metadata": {},
   "outputs": [],
   "source": [
    "gdf = gpd.GeoDataFrame(\n",
    "    df, geometry=gpd.points_from_xy(df[\"lon\"], df[\"lat\"]), crs=\"EPSG:4326\"\n",
    ").to_crs(epsg=epsg)"
   ]
  },
  {
   "cell_type": "code",
   "execution_count": null,
   "id": "47290770",
   "metadata": {},
   "outputs": [],
   "source": [
    "gdf.to_file(dst_filepath)"
   ]
  }
 ],
 "metadata": {
  "jupytext": {
   "cell_metadata_filter": "tags,-all"
  },
  "kernelspec": {
   "display_name": "Python (border-forensics)",
   "language": "python",
   "name": "border-forensics"
  }
 },
 "nbformat": 4,
 "nbformat_minor": 5
}
