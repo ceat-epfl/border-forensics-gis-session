{
 "cells": [
  {
   "cell_type": "markdown",
   "id": "0d37f131",
   "metadata": {},
   "source": [
    "# Amenities\n",
    "## Imports"
   ]
  },
  {
   "cell_type": "code",
   "execution_count": null,
   "id": "e417dc42",
   "metadata": {},
   "outputs": [],
   "source": [
    "import geopandas as gpd\n",
    "import osmnx as ox\n",
    "import pandas as pd"
   ]
  },
  {
   "cell_type": "markdown",
   "id": "a5347427",
   "metadata": {},
   "source": [
    "## Parameters"
   ]
  },
  {
   "cell_type": "code",
   "execution_count": null,
   "id": "dd9bd7f9",
   "metadata": {
    "tags": [
     "parameters"
    ]
   },
   "outputs": [],
   "source": [
    "assylum_facilities_filepath = \"data/processed/assylum-facilities.gpkg\"\n",
    "student_residences_filepath = \"data/processed/student-residences.gpkg\"\n",
    "buffer_dist = 10000\n",
    "epsg = 2056\n",
    "dst_filepath = \"data/processed/amenities.gpkg\"\n",
    "tags_dict = {\n",
    "    # public-transport-stops\": {\"public_transport\": True},\n",
    "    # \"restaurants-cafes\": {\"amenity\": [\"restaurant\", \"cafe\"]},\n",
    "    # \"schools\": {\"amenity\": \"school\"},\n",
    "    # \"supermarkets\": {\"shop\": \"supermarket\"},\n",
    "    # \"banks\": {\"amenity\": \"bank\"},\n",
    "    # \"sports-fitness-centers\": {\"leisure\": [\"sports_centre\", \"fitness_centre\"]},\n",
    "    # \"bakeries\": {\"shop\": \"bakery\"},\n",
    "    # \"kiosks\": {\"shop\": \"kiosk\"},\n",
    "    \"pharmacies\": {\"amenity\": \"pharmacy\"},\n",
    "    # \"swimming-pools-beaches\": {\n",
    "    #     \"leisure\": [\"swimming_pool\", \"beach_resort\"],\n",
    "    #     \"natural\": \"beach\",\n",
    "    # },\n",
    "    # \"libraries\": {\"amenity\": \"library\"},\n",
    "    # \"hospitals\": {\"amenity\": \"hospital\"},\n",
    "    # \"cinemas\": {\"amenity\": \"cinema\"},\n",
    "    # \"theatres\": {\"amenity\": \"theatre\"},\n",
    "    # \"post-offices\": {\"amenity\": \"post_office\"},\n",
    "    # \"night-clubs\": {\"amenity\": \"nightclub\"},\n",
    "    # \"bars\": {\"amenity\": \"bar\"},\n",
    "    # \"parks\": {\"leisure\": \"park\"},\n",
    "    # \"playgrounds\": {\"leisure\": \"playground\"},\n",
    "}"
   ]
  },
  {
   "cell_type": "markdown",
   "id": "adc83906",
   "metadata": {},
   "source": [
    "## Load data"
   ]
  },
  {
   "cell_type": "code",
   "execution_count": null,
   "id": "9d0de42c",
   "metadata": {},
   "outputs": [],
   "source": [
    "assylum_facilities_gdf = gpd.read_file(assylum_facilities_filepath)\n",
    "student_residences_gdf = gpd.read_file(student_residences_filepath)"
   ]
  },
  {
   "cell_type": "markdown",
   "id": "e7a56aa3",
   "metadata": {},
   "source": [
    "## Concatenate the geometry columns of the two dataframes into a single geoseries"
   ]
  },
  {
   "cell_type": "code",
   "execution_count": null,
   "id": "c72d27ce",
   "metadata": {},
   "outputs": [],
   "source": [
    "locations_gser = pd.concat(\n",
    "    [assylum_facilities_gdf[\"geometry\"], student_residences_gdf[\"geometry\"]],\n",
    "    ignore_index=True,\n",
    ")"
   ]
  },
  {
   "cell_type": "markdown",
   "id": "08c60d01",
   "metadata": {},
   "source": [
    "## Get amenities from OSM at a given distance buffer from assylum facilities\n",
    "### Get the extent by adding a buffer around locations and reproject to WGS84"
   ]
  },
  {
   "cell_type": "code",
   "execution_count": null,
   "id": "d82683c1",
   "metadata": {},
   "outputs": [],
   "source": [
    "# use a multipolygon joining all rows of gdf as the extent to query OSM\n",
    "extent = locations_gser.buffer(buffer_dist).to_crs(\"EPSG:4326\").unary_union"
   ]
  },
  {
   "cell_type": "markdown",
   "id": "6f6726f2",
   "metadata": {},
   "source": [
    "### Query OSM for amenities given the extent and tags"
   ]
  },
  {
   "cell_type": "code",
   "execution_count": null,
   "id": "935b3a73",
   "metadata": {},
   "outputs": [],
   "source": [
    "amenities_gdf = gpd.GeoDataFrame(columns=[\"category\", \"geometry\"])\n",
    "for category, tags in tags_dict.items():\n",
    "    print(f\"Getting amenities for {category}...\")\n",
    "    category_gser = ox.geometries_from_polygon(extent, tags=tags)[\"geometry\"].apply(\n",
    "        lambda x: x.centroid if x.geom_type != \"Point\" else x\n",
    "    )\n",
    "    amenities_gdf = pd.concat(\n",
    "        [\n",
    "            amenities_gdf,\n",
    "            gpd.GeoDataFrame(\n",
    "                geometry=category_gser,\n",
    "            )\n",
    "            .reset_index()\n",
    "            .drop(columns=\"element_type\")\n",
    "            # .set_index(\"osmid\")\n",
    "            .assign(category=category),\n",
    "        ],\n",
    "        ignore_index=True,\n",
    "    )"
   ]
  },
  {
   "cell_type": "markdown",
   "id": "d7242d89",
   "metadata": {},
   "source": [
    "### Set the osmid as index and reproject"
   ]
  },
  {
   "cell_type": "code",
   "execution_count": null,
   "id": "26ee76d9",
   "metadata": {},
   "outputs": [],
   "source": [
    "amenities_gdf[\"osmid\"] = amenities_gdf[\"osmid\"].astype(int)\n",
    "amenities_gdf = amenities_gdf.set_index(\"osmid\")\n",
    "amenities_gdf = amenities_gdf.to_crs(epsg=epsg)"
   ]
  },
  {
   "cell_type": "markdown",
   "id": "3f7f6c5f",
   "metadata": {},
   "source": [
    "### Save amenities to file"
   ]
  },
  {
   "cell_type": "code",
   "execution_count": null,
   "id": "efdeaa97",
   "metadata": {},
   "outputs": [],
   "source": [
    "amenities_gdf.to_file(dst_filepath)"
   ]
  },
  {
   "cell_type": "code",
   "execution_count": null,
   "id": "1e1cbe2c",
   "metadata": {},
   "outputs": [],
   "source": [
    "for category, category_gdf in amenities_gdf.groupby(\"category\"):\n",
    "    category_gdf.to_file(f\"data/processed/amenities-{category}.gpkg\")"
   ]
  }
 ],
 "metadata": {
  "jupytext": {
   "cell_metadata_filter": "tags,-all"
  },
  "kernelspec": {
   "display_name": "Python (border-forensics)",
   "language": "python",
   "name": "border-forensics"
  }
 },
 "nbformat": 4,
 "nbformat_minor": 5
}
