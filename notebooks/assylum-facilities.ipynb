{
 "cells": [
  {
   "cell_type": "markdown",
   "id": "b06dece2",
   "metadata": {},
   "source": [
    "# Get single data frame for both federal and cantonal assylum facilities\n",
    "## Imports"
   ]
  },
  {
   "cell_type": "code",
   "execution_count": null,
   "id": "3758c427",
   "metadata": {},
   "outputs": [],
   "source": [
    "import geopandas as gpd\n",
    "import pandas as pd"
   ]
  },
  {
   "cell_type": "markdown",
   "id": "6d95ee88",
   "metadata": {},
   "source": [
    "## Load data"
   ]
  },
  {
   "cell_type": "code",
   "execution_count": null,
   "id": "32bd4bdd",
   "metadata": {
    "tags": [
     "parameters"
    ]
   },
   "outputs": [],
   "source": [
    "federal_centers_filepath = \"data/raw/federal-centers.gpkg\"\n",
    "cantonal_facilities_filepath = \"data/interim/cantonal-facilities.gpkg\"\n",
    "epsg = 2056\n",
    "dst_filepath = \"data/processed/centers.gpkg\""
   ]
  },
  {
   "cell_type": "code",
   "execution_count": null,
   "id": "b68ce038",
   "metadata": {},
   "outputs": [],
   "source": [
    "COLS = [\"name\", \"type\", \"capacity\", \"geometry\"]\n",
    "FEDERAL_COL_MAP = {\"Nom\": \"name\", \"type\": \"type\", \"Capacité\": \"capacity\"}\n",
    "CANTONAL_COL_MAP = {\n",
    "    \"Name\": \"name\",\n",
    "    \"Type\": \"type\",\n",
    "    \"Official Capacity (in beds)\": \"capacity\",\n",
    "}"
   ]
  },
  {
   "cell_type": "markdown",
   "id": "3221ee60",
   "metadata": {},
   "source": [
    "### Federal centers"
   ]
  },
  {
   "cell_type": "code",
   "execution_count": null,
   "id": "f70f47c0",
   "metadata": {},
   "outputs": [],
   "source": [
    "federal_centers_gdf = gpd.read_file(federal_centers_filepath).set_index(\"id\")\n",
    "federal_centers_gdf.head()"
   ]
  },
  {
   "cell_type": "markdown",
   "id": "124973f6",
   "metadata": {},
   "source": [
    "### Cantonal facilities"
   ]
  },
  {
   "cell_type": "code",
   "execution_count": null,
   "id": "a0c0c3ef",
   "metadata": {},
   "outputs": [],
   "source": [
    "cantonal_facilities_gdf = gpd.read_file(cantonal_facilities_filepath)\n",
    "cantonal_facilities_gdf.head()"
   ]
  },
  {
   "cell_type": "markdown",
   "id": "e9da955c",
   "metadata": {},
   "source": [
    "## Reproject dataframes into the same CRS, merge them and dump into a single file"
   ]
  },
  {
   "cell_type": "code",
   "execution_count": null,
   "id": "0949dfa5",
   "metadata": {},
   "outputs": [],
   "source": [
    "pd.concat(\n",
    "    [\n",
    "        gdf.rename(columns=col_map)[COLS].to_crs(epsg=epsg)\n",
    "        for col_map, gdf in zip(\n",
    "            [FEDERAL_COL_MAP, CANTONAL_COL_MAP],\n",
    "            [federal_centers_gdf, cantonal_facilities_gdf],\n",
    "        )\n",
    "    ]\n",
    ").to_file(dst_filepath)"
   ]
  }
 ],
 "metadata": {
  "jupytext": {
   "cell_metadata_filter": "tags,-all"
  },
  "kernelspec": {
   "display_name": "Python (border-forensics)",
   "language": "python",
   "name": "border-forensics"
  }
 },
 "nbformat": 4,
 "nbformat_minor": 5
}
